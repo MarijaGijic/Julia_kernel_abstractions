{
  "nbformat": 4,
  "nbformat_minor": 0,
  "metadata": {
    "colab": {
      "provenance": [],
      "gpuType": "T4"
    },
    "kernelspec": {
      "display_name": "Julia",
      "name": "julia"
    },
    "language_info": {
      "file_extension": ".jl",
      "mimetype": "application/julia",
      "name": "julia"
    },
    "accelerator": "GPU"
  },
  "cells": [
    {
      "cell_type": "code",
      "metadata": {
        "id": "GIeFXS0F0zww",
        "colab": {
          "base_uri": "https://localhost:8080/",
          "height": 89
        },
        "outputId": "5b5df3d6-0ec5-4b9f-8702-0a9e84df1cfe"
      },
      "source": [
        "%%shell\n",
        "set -e\n",
        "\n",
        "#---------------------------------------------------#\n",
        "JULIA_VERSION=\"1.8.2\" # any version ≥ 0.7.0\n",
        "JULIA_PACKAGES=\"IJulia BenchmarkTools\"\n",
        "JULIA_PACKAGES_IF_GPU=\"CUDA\" # or CuArrays for older Julia versions\n",
        "JULIA_NUM_THREADS=2\n",
        "#---------------------------------------------------#\n",
        "\n",
        "if [ -z `which julia` ]; then\n",
        "  # Install Julia\n",
        "  JULIA_VER=`cut -d '.' -f -2 <<< \"$JULIA_VERSION\"`\n",
        "  echo \"Installing Julia $JULIA_VERSION on the current Colab Runtime...\"\n",
        "  BASE_URL=\"https://julialang-s3.julialang.org/bin/linux/x64\"\n",
        "  URL=\"$BASE_URL/$JULIA_VER/julia-$JULIA_VERSION-linux-x86_64.tar.gz\"\n",
        "  wget -nv $URL -O /tmp/julia.tar.gz # -nv means \"not verbose\"\n",
        "  tar -x -f /tmp/julia.tar.gz -C /usr/local --strip-components 1\n",
        "  rm /tmp/julia.tar.gz\n",
        "\n",
        "  # Install Packages\n",
        "  nvidia-smi -L &> /dev/null && export GPU=1 || export GPU=0\n",
        "  if [ $GPU -eq 1 ]; then\n",
        "    JULIA_PACKAGES=\"$JULIA_PACKAGES $JULIA_PACKAGES_IF_GPU\"\n",
        "  fi\n",
        "  for PKG in `echo $JULIA_PACKAGES`; do\n",
        "    echo \"Installing Julia package $PKG...\"\n",
        "    julia -e 'using Pkg; pkg\"add '$PKG'; precompile;\"' &> /dev/null\n",
        "  done\n",
        "\n",
        "  # Install kernel and rename it to \"julia\"\n",
        "  echo \"Installing IJulia kernel...\"\n",
        "  julia -e 'using IJulia; IJulia.installkernel(\"julia\", env=Dict(\n",
        "      \"JULIA_NUM_THREADS\"=>\"'\"$JULIA_NUM_THREADS\"'\"))'\n",
        "  KERNEL_DIR=`julia -e \"using IJulia; print(IJulia.kerneldir())\"`\n",
        "  KERNEL_NAME=`ls -d \"$KERNEL_DIR\"/julia*`\n",
        "  mv -f $KERNEL_NAME \"$KERNEL_DIR\"/julia\n",
        "\n",
        "  echo ''\n",
        "  echo \"Successfully installed `julia -v`!\"\n",
        "  echo \"Please reload this page (press Ctrl+R, ⌘+R, or the F5 key) then\"\n",
        "  echo \"jump to the 'Checking the Installation' section.\"\n",
        "fi"
      ],
      "execution_count": 1,
      "outputs": [
        {
          "output_type": "display_data",
          "data": {
            "text/plain": [
              "  Unrecognized magic \u001b[36m%%shell\u001b[39m.\n",
              "\n",
              "  Julia does not use the IPython \u001b[36m%magic\u001b[39m syntax. To interact with the IJulia kernel, use\n",
              "  \u001b[36mIJulia.somefunction(...)\u001b[39m, for example. Julia macros, string macros, and functions can be used to\n",
              "  accomplish most of the other functionalities of IPython magics."
            ],
            "text/markdown": "Unrecognized magic `%%shell`.\n\nJulia does not use the IPython `%magic` syntax.   To interact with the IJulia kernel, use `IJulia.somefunction(...)`, for example.  Julia macros, string macros, and functions can be used to accomplish most of the other functionalities of IPython magics.\n",
            "text/latex": "Unrecognized magic \\texttt{\\%\\%shell}.\n\nJulia does not use the IPython \\texttt{\\%magic} syntax.   To interact with the IJulia kernel, use \\texttt{IJulia.somefunction(...)}, for example.  Julia macros, string macros, and functions can be used to accomplish most of the other functionalities of IPython magics.\n\n"
          },
          "metadata": {}
        }
      ]
    },
    {
      "cell_type": "markdown",
      "metadata": {
        "id": "-OS3Ac017T1i"
      },
      "source": [
        "# Checking the Installation\n",
        "The `versioninfo()` function should print your Julia version and some other info about the system:"
      ]
    },
    {
      "cell_type": "code",
      "metadata": {
        "id": "EEzvvzCl1i0F",
        "colab": {
          "base_uri": "https://localhost:8080/"
        },
        "outputId": "fdecbfd1-8a34-402a-faa7-b110b88c168f"
      },
      "source": [
        "versioninfo()"
      ],
      "execution_count": 2,
      "outputs": [
        {
          "output_type": "stream",
          "name": "stdout",
          "text": [
            "Julia Version 1.10.9\n",
            "Commit 5595d20a287 (2025-03-10 12:51 UTC)\n",
            "Build Info:\n",
            "  Official https://julialang.org/ release\n",
            "Platform Info:\n",
            "  OS: Linux (x86_64-linux-gnu)\n",
            "  CPU: 2 × Intel(R) Xeon(R) CPU @ 2.00GHz\n",
            "  WORD_SIZE: 64\n",
            "  LIBM: libopenlibm\n",
            "  LLVM: libLLVM-15.0.7 (ORCJIT, skylake-avx512)\n",
            "Threads: 2 default, 0 interactive, 1 GC (on 2 virtual cores)\n",
            "Environment:\n",
            "  LD_LIBRARY_PATH = /usr/lib64-nvidia\n",
            "  JULIA_NUM_THREADS = auto\n"
          ]
        }
      ]
    },
    {
      "cell_type": "code",
      "source": [
        "using Pkg\n",
        "Pkg.add(\"BenchmarkTools\")\n",
        "using BenchmarkTools"
      ],
      "metadata": {
        "id": "8I4bVgKzpdxU",
        "outputId": "ac896e3d-b54f-40e9-80b3-7bcfba1b172e",
        "colab": {
          "base_uri": "https://localhost:8080/"
        }
      },
      "execution_count": 3,
      "outputs": [
        {
          "output_type": "stream",
          "name": "stderr",
          "text": [
            "\u001b[32m\u001b[1m   Resolving\u001b[22m\u001b[39m package versions...\n",
            "\u001b[32m\u001b[1m    Updating\u001b[22m\u001b[39m `~/.julia/environments/v1.10/Project.toml`\n",
            "  \u001b[90m[6e4b80f9] \u001b[39m\u001b[92m+ BenchmarkTools v1.6.0\u001b[39m\n",
            "\u001b[32m\u001b[1m    Updating\u001b[22m\u001b[39m `~/.julia/environments/v1.10/Manifest.toml`\n",
            "  \u001b[90m[6e4b80f9] \u001b[39m\u001b[92m+ BenchmarkTools v1.6.0\u001b[39m\n",
            "  \u001b[90m[9abbd945] \u001b[39m\u001b[92m+ Profile\u001b[39m\n",
            "\u001b[32m\u001b[1mPrecompiling\u001b[22m\u001b[39m packages...\n",
            "   2349.1 ms\u001b[32m  ✓ \u001b[39mBenchmarkTools\n",
            "  1 dependency successfully precompiled in 11 seconds. 460 already precompiled.\n"
          ]
        }
      ]
    },
    {
      "cell_type": "code",
      "source": [
        "using Pkg\n",
        "Pkg.add(\"CUDA\")\n",
        "Pkg.add(\"KernelAbstractions\")\n"
      ],
      "metadata": {
        "id": "bLXwZtutksJM",
        "outputId": "03008008-ffbe-4f57-957b-d29b09164556",
        "colab": {
          "base_uri": "https://localhost:8080/"
        }
      },
      "execution_count": 6,
      "outputs": [
        {
          "output_type": "stream",
          "name": "stderr",
          "text": [
            "\u001b[32m\u001b[1m   Resolving\u001b[22m\u001b[39m package versions...\n",
            "\u001b[32m\u001b[1m  No Changes\u001b[22m\u001b[39m to `~/.julia/environments/v1.10/Project.toml`\n",
            "\u001b[32m\u001b[1m  No Changes\u001b[22m\u001b[39m to `~/.julia/environments/v1.10/Manifest.toml`\n",
            "\u001b[32m\u001b[1m   Resolving\u001b[22m\u001b[39m package versions...\n",
            "\u001b[32m\u001b[1m    Updating\u001b[22m\u001b[39m `~/.julia/environments/v1.10/Project.toml`\n",
            "  \u001b[90m[63c18a36] \u001b[39m\u001b[92m+ KernelAbstractions v0.9.34\u001b[39m\n",
            "\u001b[32m\u001b[1m  No Changes\u001b[22m\u001b[39m to `~/.julia/environments/v1.10/Manifest.toml`\n"
          ]
        }
      ]
    },
    {
      "cell_type": "code",
      "source": [
        "using KernelAbstractions, CUDA, Test\n",
        "\n",
        "@kernel function dilate_kernel_3D!(output, img_input, struct_element)\n",
        "    I = @index(Global, Cartesian)\n",
        "    i, j, k = Tuple(I)\n",
        "    offset_h = div(size(struct_element)[1], 2)\n",
        "    offset_w = div(size(struct_element)[2], 2)\n",
        "    offset_d = div(size(struct_element)[3], 2)\n",
        "\n",
        "    if k <= size(img_input)[3]\n",
        "        if i <= size(img_input)[1] && j <= size(img_input)[2]\n",
        "            result = false\n",
        "\n",
        "            # Iterate over the structure element\n",
        "            for m in 1:size(struct_element)[1]\n",
        "                for n in 1:size(struct_element)[2]\n",
        "                    for p in 1:size(struct_element)[3]\n",
        "                        ni = i + m - offset_h - 1\n",
        "                        nj = j + n - offset_w - 1\n",
        "                        nk = k + p - offset_d - 1\n",
        "\n",
        "                        # Check if the indices are within bounds\n",
        "                        if 1 <= ni <= size(img_input)[1] && 1 <= nj <= size(img_input)[2] && 1 <= nk <= size(img_input)[3]\n",
        "                            if img_input[ni, nj, nk] == 1 && struct_element[m, n, p] == 1\n",
        "                                result = true\n",
        "                                break\n",
        "                            end\n",
        "                        end\n",
        "                    end\n",
        "                    if result\n",
        "                        break\n",
        "                    end\n",
        "                end\n",
        "                if result\n",
        "                    break\n",
        "                end\n",
        "            end\n",
        "\n",
        "            # Set the output pixel to 1 if the result is true, otherwise 0\n",
        "            @inbounds output[i, j, k] = result ? 1 : 0\n",
        "        end\n",
        "    end\n",
        "end\n",
        "\n",
        "function dilate!(output, img_input, struct_element)\n",
        "\n",
        "    backend = get_backend(img_input)\n",
        "    kernel! = dilate_kernel_3D!(backend)\n",
        "    kernel!(output, img_input, struct_element, ndrange=size(output))\n",
        "    return output\n",
        "\n",
        "end\n"
      ],
      "metadata": {
        "id": "3KtWBRfvkxe2",
        "outputId": "a47e4ad7-8804-4bb1-a4b1-d8d94c0bdcb3",
        "colab": {
          "base_uri": "https://localhost:8080/"
        }
      },
      "execution_count": 7,
      "outputs": [
        {
          "output_type": "execute_result",
          "data": {
            "text/plain": [
              "dilate! (generic function with 1 method)"
            ]
          },
          "metadata": {},
          "execution_count": 7
        }
      ]
    },
    {
      "cell_type": "code",
      "source": [
        "@kernel function erode_kernel_3D!(output_img, input_img, struct_element)\n",
        "    I = @index(Global, Cartesian)\n",
        "    i, j, k = Tuple(I)\n",
        "\n",
        "    offset_h = div(size(struct_element)[1], 2)\n",
        "    offset_w = div(size(struct_element)[2], 2)\n",
        "    offset_d = div(size(struct_element)[3], 2)\n",
        "\n",
        "    if k <= size(input_img)[3]\n",
        "      if i <= size(input_img)[1] && j <= size(input_img)[2]\n",
        "          result = true\n",
        "\n",
        "          # Iterate over the structure element\n",
        "          for m in 1:size(struct_element)[1]\n",
        "              for n in 1:size(struct_element)[2]\n",
        "                  for p in 1:size(struct_element)[3]\n",
        "                      ni = i + m - offset_h - 1\n",
        "                      nj = j + n - offset_w - 1\n",
        "                      nk = k + p - offset_d - 1\n",
        "\n",
        "                      # Check if the indices are within bounds\n",
        "                      if 1 <= ni <= size(input_img)[1] && 1 <= nj <= size(input_img)[2] && 1 <= nk <= size(input_img)[3]\n",
        "                          if struct_element[m, n, p] == 1 && input_img[ni, nj, nk] == 0\n",
        "                              result = false\n",
        "                              break\n",
        "                          end\n",
        "                      else\n",
        "                          # Out-of-bounds counts as 0 in erosion\n",
        "                          if struct_element[m, n, p] == 1\n",
        "                              result = false\n",
        "                              break\n",
        "                          end\n",
        "                      end\n",
        "                  end\n",
        "                  if !result\n",
        "                      break\n",
        "                  end\n",
        "              end\n",
        "              if !result\n",
        "                break\n",
        "              end\n",
        "          end\n",
        "\n",
        "            @inbounds output_img[i, j, k] = result ? 1 : 0\n",
        "        end\n",
        "    end\n",
        "end\n",
        "\n",
        "function erode!(output, img_input, struct_element)\n",
        "\n",
        "    backend = get_backend(img_input)\n",
        "    kernel! = erode_kernel_3D!(backend)\n",
        "    kernel!(output, img_input, struct_element, ndrange=size(output))\n",
        "    return output\n",
        "\n",
        "end"
      ],
      "metadata": {
        "id": "cr9__uu_lWu2",
        "outputId": "afc1d0e3-6a14-4db0-ae0c-d7a511b90d3e",
        "colab": {
          "base_uri": "https://localhost:8080/"
        }
      },
      "execution_count": 27,
      "outputs": [
        {
          "output_type": "execute_result",
          "data": {
            "text/plain": [
              "erode! (generic function with 1 method)"
            ]
          },
          "metadata": {},
          "execution_count": 27
        }
      ]
    },
    {
      "cell_type": "code",
      "source": [
        "using CUDA\n",
        "function testing()\n",
        "    img_input_dilation = Bool[\n",
        "\n",
        "        0 0 0 0 0 0 0 0 0 0 0;\n",
        "        0 1 1 1 1 0 0 1 1 1 0;\n",
        "        0 1 1 1 1 0 0 1 1 1 0;\n",
        "        0 1 1 1 1 1 1 1 1 1 0;\n",
        "        0 1 1 1 1 1 1 1 1 1 0;\n",
        "        0 1 1 0 0 0 1 1 1 1 0;\n",
        "        0 1 1 0 0 0 1 1 1 1 0;\n",
        "        0 1 1 0 0 0 1 1 1 1 0;\n",
        "        0 1 1 1 1 1 1 1 0 0 0;\n",
        "        0 1 1 1 1 1 1 1 0 0 0;\n",
        "        0 0 0 0 0 0 0 0 0 0 0;;;\n",
        "\n",
        "        0 0 0 0 0 0 0 0 0 0 0;\n",
        "        0 1 1 1 1 0 0 1 1 1 0;\n",
        "        0 1 1 1 1 0 0 1 1 1 0;\n",
        "        0 1 1 1 1 1 1 1 1 1 0;\n",
        "        0 1 1 1 1 1 1 1 1 1 0;\n",
        "        0 1 1 0 0 0 1 1 1 1 0;\n",
        "        0 1 1 0 0 0 1 1 1 1 0;\n",
        "        0 1 1 0 0 0 1 1 1 1 0;\n",
        "        0 1 1 1 1 1 1 1 0 0 0;\n",
        "        0 1 1 1 1 1 1 1 0 0 0;\n",
        "        0 0 0 0 0 0 0 0 0 0 0;;;\n",
        "\n",
        "        0 0 0 0 0 0 0 0 0 0 0;\n",
        "        0 1 1 1 1 0 0 1 1 1 0;\n",
        "        0 1 1 1 1 0 0 1 1 1 0;\n",
        "        0 1 1 1 1 1 1 1 1 1 0;\n",
        "        0 1 1 1 1 1 1 1 1 1 0;\n",
        "        0 1 1 0 0 0 1 1 1 1 0;\n",
        "        0 1 1 0 0 0 1 1 1 1 0;\n",
        "        0 1 1 0 0 0 1 1 1 1 0;\n",
        "        0 1 1 1 1 1 1 1 0 0 0;\n",
        "        0 1 1 1 1 1 1 1 0 0 0;\n",
        "        0 0 0 0 0 0 0 0 0 0 0\n",
        "        ]\n",
        "\n",
        "    expected_result_dilation = Bool[\n",
        "        1 1 1 1 1 1 1 1 1 1 1;\n",
        "        1 1 1 1 1 1 1 1 1 1 1;\n",
        "        1 1 1 1 1 1 1 1 1 1 1;\n",
        "        1 1 1 1 1 1 1 1 1 1 1;\n",
        "        1 1 1 1 1 1 1 1 1 1 1;\n",
        "        1 1 1 1 1 1 1 1 1 1 1;\n",
        "        1 1 1 1 0 1 1 1 1 1 1;\n",
        "        1 1 1 1 1 1 1 1 1 1 1;\n",
        "        1 1 1 1 1 1 1 1 1 1 1;\n",
        "        1 1 1 1 1 1 1 1 1 0 0;\n",
        "        1 1 1 1 1 1 1 1 1 0 0;;;\n",
        "\n",
        "        1 1 1 1 1 1 1 1 1 1 1;\n",
        "        1 1 1 1 1 1 1 1 1 1 1;\n",
        "        1 1 1 1 1 1 1 1 1 1 1;\n",
        "        1 1 1 1 1 1 1 1 1 1 1;\n",
        "        1 1 1 1 1 1 1 1 1 1 1;\n",
        "        1 1 1 1 1 1 1 1 1 1 1;\n",
        "        1 1 1 1 0 1 1 1 1 1 1;\n",
        "        1 1 1 1 1 1 1 1 1 1 1;\n",
        "        1 1 1 1 1 1 1 1 1 1 1;\n",
        "        1 1 1 1 1 1 1 1 1 0 0;\n",
        "        1 1 1 1 1 1 1 1 1 0 0;;;\n",
        "\n",
        "        1 1 1 1 1 1 1 1 1 1 1;\n",
        "        1 1 1 1 1 1 1 1 1 1 1;\n",
        "        1 1 1 1 1 1 1 1 1 1 1;\n",
        "        1 1 1 1 1 1 1 1 1 1 1;\n",
        "        1 1 1 1 1 1 1 1 1 1 1;\n",
        "        1 1 1 1 1 1 1 1 1 1 1;\n",
        "        1 1 1 1 0 1 1 1 1 1 1;\n",
        "        1 1 1 1 1 1 1 1 1 1 1;\n",
        "        1 1 1 1 1 1 1 1 1 1 1;\n",
        "        1 1 1 1 1 1 1 1 1 0 0;\n",
        "        1 1 1 1 1 1 1 1 1 0 0\n",
        "        ]\n",
        "\n",
        "    img_input_erosion = Bool[\n",
        "        1 1 1 1 1 1 1 1 1 1 1 1 1;\n",
        "        1 1 1 1 1 1 0 1 1 1 1 1 1;\n",
        "        1 1 1 1 1 1 1 1 1 1 1 1 1;\n",
        "        1 1 1 1 1 1 1 1 1 1 1 1 1;\n",
        "        1 1 1 1 1 1 1 1 1 1 1 1 1;\n",
        "        1 1 1 1 1 1 1 1 1 1 1 1 1;\n",
        "        1 1 1 1 1 1 1 1 1 1 1 1 1;\n",
        "        1 1 1 1 1 1 1 1 1 1 1 1 1;\n",
        "        1 1 1 1 1 1 1 1 1 1 1 1 1;\n",
        "        1 1 1 1 1 1 1 1 1 1 1 1 1;\n",
        "        1 1 1 1 1 1 1 1 1 1 1 1 1;\n",
        "        1 1 1 1 1 1 1 1 1 1 1 1 1;\n",
        "        1 1 1 1 1 1 1 1 1 1 1 1 1;;;\n",
        "\n",
        "        1 1 1 1 1 1 1 1 1 1 1 1 1;\n",
        "        1 1 1 1 1 1 0 1 1 1 1 1 1;\n",
        "        1 1 1 1 1 1 1 1 1 1 1 1 1;\n",
        "        1 1 1 1 1 1 1 1 1 1 1 1 1;\n",
        "        1 1 1 1 1 1 1 1 1 1 1 1 1;\n",
        "        1 1 1 1 1 1 1 1 1 1 1 1 1;\n",
        "        1 1 1 1 1 1 1 1 1 1 1 1 1;\n",
        "        1 1 1 1 1 1 1 1 1 1 1 1 1;\n",
        "        1 1 1 1 1 1 1 1 1 1 1 1 1;\n",
        "        1 1 1 1 1 1 1 1 1 1 1 1 1;\n",
        "        1 1 1 1 1 1 1 1 1 1 1 1 1;\n",
        "        1 1 1 1 1 1 1 1 1 1 1 1 1;\n",
        "        1 1 1 1 1 1 1 1 1 1 1 1 1;;;\n",
        "\n",
        "        1 1 1 1 1 1 1 1 1 1 1 1 1;\n",
        "        1 1 1 1 1 1 0 1 1 1 1 1 1;\n",
        "        1 1 1 1 1 1 1 1 1 1 1 1 1;\n",
        "        1 1 1 1 1 1 1 1 1 1 1 1 1;\n",
        "        1 1 1 1 1 1 1 1 1 1 1 1 1;\n",
        "        1 1 1 1 1 1 1 1 1 1 1 1 1;\n",
        "        1 1 1 1 1 1 1 1 1 1 1 1 1;\n",
        "        1 1 1 1 1 1 1 1 1 1 1 1 1;\n",
        "        1 1 1 1 1 1 1 1 1 1 1 1 1;\n",
        "        1 1 1 1 1 1 1 1 1 1 1 1 1;\n",
        "        1 1 1 1 1 1 1 1 1 1 1 1 1;\n",
        "        1 1 1 1 1 1 1 1 1 1 1 1 1;\n",
        "        1 1 1 1 1 1 1 1 1 1 1 1 1\n",
        "        ]\n",
        "\n",
        "    expected_result_erosion = Bool[\n",
        "        0 0 0 0 0 0 0 0 0 0 0 0 0;\n",
        "        0 1 1 1 1 0 0 0 1 1 1 1 0;\n",
        "        0 1 1 1 1 0 0 0 1 1 1 1 0;\n",
        "        0 1 1 1 1 1 1 1 1 1 1 1 0;\n",
        "        0 1 1 1 1 1 1 1 1 1 1 1 0;\n",
        "        0 1 1 1 1 1 1 1 1 1 1 1 0;\n",
        "        0 1 1 1 1 1 1 1 1 1 1 1 0;\n",
        "        0 1 1 1 1 1 1 1 1 1 1 1 0;\n",
        "        0 1 1 1 1 1 1 1 1 1 1 1 0;\n",
        "        0 1 1 1 1 1 1 1 1 1 1 1 0;\n",
        "        0 1 1 1 1 1 1 1 1 1 1 1 0;\n",
        "        0 1 1 1 1 1 1 1 1 1 1 1 0;\n",
        "        0 0 0 0 0 0 0 0 0 0 0 0 0;;;\n",
        "\n",
        "        0 0 0 0 0 0 0 0 0 0 0 0 0;\n",
        "        0 1 1 1 1 0 0 0 1 1 1 1 0;\n",
        "        0 1 1 1 1 0 0 0 1 1 1 1 0;\n",
        "        0 1 1 1 1 1 1 1 1 1 1 1 0;\n",
        "        0 1 1 1 1 1 1 1 1 1 1 1 0;\n",
        "        0 1 1 1 1 1 1 1 1 1 1 1 0;\n",
        "        0 1 1 1 1 1 1 1 1 1 1 1 0;\n",
        "        0 1 1 1 1 1 1 1 1 1 1 1 0;\n",
        "        0 1 1 1 1 1 1 1 1 1 1 1 0;\n",
        "        0 1 1 1 1 1 1 1 1 1 1 1 0;\n",
        "        0 1 1 1 1 1 1 1 1 1 1 1 0;\n",
        "        0 1 1 1 1 1 1 1 1 1 1 1 0;\n",
        "        0 0 0 0 0 0 0 0 0 0 0 0 0;;;\n",
        "\n",
        "        0 0 0 0 0 0 0 0 0 0 0 0 0;\n",
        "        0 1 1 1 1 0 0 0 1 1 1 1 0;\n",
        "        0 1 1 1 1 0 0 0 1 1 1 1 0;\n",
        "        0 1 1 1 1 1 1 1 1 1 1 1 0;\n",
        "        0 1 1 1 1 1 1 1 1 1 1 1 0;\n",
        "        0 1 1 1 1 1 1 1 1 1 1 1 0;\n",
        "        0 1 1 1 1 1 1 1 1 1 1 1 0;\n",
        "        0 1 1 1 1 1 1 1 1 1 1 1 0;\n",
        "        0 1 1 1 1 1 1 1 1 1 1 1 0;\n",
        "        0 1 1 1 1 1 1 1 1 1 1 1 0;\n",
        "        0 1 1 1 1 1 1 1 1 1 1 1 0;\n",
        "        0 1 1 1 1 1 1 1 1 1 1 1 0;\n",
        "        0 0 0 0 0 0 0 0 0 0 0 0 0\n",
        "        ]\n",
        "\n",
        "    # Structuring element\n",
        "    struct_element = ones(Bool, 3, 3, 3)\n",
        "\n",
        "    # Output arrays (CPU)\n",
        "    output_dilation = zeros(Bool, size(expected_result_dilation))\n",
        "    output_erosion = zeros(Bool, size(expected_result_erosion))\n",
        "\n",
        "    # Call CPU versions\n",
        "    dilate!(output_dilation, img_input_dilation, struct_element)\n",
        "    erode!(output_erosion, img_input_erosion, struct_element)\n",
        "\n",
        "    # GPU versions\n",
        "    d_img_input_dilation = CuArray(img_input_dilation)\n",
        "    d_img_input_erosion = CuArray(img_input_erosion)\n",
        "    d_struct_element = CuArray(struct_element)\n",
        "\n",
        "    d_output_dilation = CuArray(zeros(Bool, size(expected_result_dilation)))\n",
        "    d_output_erosion = CuArray(zeros(Bool, size(expected_result_erosion)))\n",
        "\n",
        "    dilate!(d_output_dilation, d_img_input_dilation, d_struct_element)\n",
        "    erode!(d_output_erosion, d_img_input_erosion, d_struct_element)\n",
        "\n",
        "    # Bring results back from GPU\n",
        "    gpu_result_dilation = Array(d_output_dilation)\n",
        "    gpu_result_erosion = Array(d_output_erosion)\n",
        "\n",
        "    @test gpu_result_dilation == expected_result_dilation\n",
        "    @test gpu_result_erosion == expected_result_erosion\n",
        "\n",
        "end"
      ],
      "metadata": {
        "id": "1WBJz2Gom2vD",
        "outputId": "74755b39-eff5-4473-de28-a8fce7733363",
        "colab": {
          "base_uri": "https://localhost:8080/"
        }
      },
      "execution_count": 28,
      "outputs": [
        {
          "output_type": "execute_result",
          "data": {
            "text/plain": [
              "testing (generic function with 1 method)"
            ]
          },
          "metadata": {},
          "execution_count": 28
        }
      ]
    },
    {
      "cell_type": "code",
      "source": [
        "testing()"
      ],
      "metadata": {
        "id": "5JP9IcfapB_l",
        "outputId": "02e23eee-4e6b-421e-dca1-c33a0f0bea36",
        "colab": {
          "base_uri": "https://localhost:8080/",
          "height": 366
        }
      },
      "execution_count": 29,
      "outputs": [
        {
          "output_type": "stream",
          "name": "stdout",
          "text": [
            "\u001b[91m\u001b[1mTest Failed\u001b[22m\u001b[39m at \u001b[39m\u001b[1mIn[28]:195\u001b[22m\n",
            "  Expression: gpu_result_erosion == expected_result_erosion\n",
            "   Evaluated: Bool[1 1 … 1 1; 1 1 … 1 1; … ; 1 1 … 1 1; 1 1 … 1 1;;; 1 1 … 1 1; 1 1 … 1 1; … ; 1 1 … 1 1; 1 1 … 1 1;;; 1 1 … 1 1; 1 1 … 1 1; … ; 1 1 … 1 1; 1 1 … 1 1] == Bool[0 0 … 0 0; 0 1 … 1 0; … ; 0 1 … 1 0; 0 0 … 0 0;;; 0 0 … 0 0; 0 1 … 1 0; … ; 0 1 … 1 0; 0 0 … 0 0;;; 0 0 … 0 0; 0 1 … 1 0; … ; 0 1 … 1 0; 0 0 … 0 0]\n",
            "\n"
          ]
        },
        {
          "output_type": "error",
          "ename": "LoadError",
          "evalue": "\u001b[91mThere was an error during testing\u001b[39m",
          "traceback": [
            "\u001b[91mThere was an error during testing\u001b[39m",
            "",
            "Stacktrace:",
            " [1] record(ts::Test.FallbackTestSet, t::Union{Test.Error, Test.Fail})",
            "   @ Test /usr/local/share/julia/stdlib/v1.10/Test/src/Test.jl:1000",
            " [2] do_test(result::Test.ExecutionResult, orig_expr::Any)",
            "   @ Test /usr/local/share/julia/stdlib/v1.10/Test/src/Test.jl:705",
            " [3] macro expansion",
            "   @ /usr/local/share/julia/stdlib/v1.10/Test/src/Test.jl:672 [inlined]",
            " [4] testing()",
            "   @ Main ./In[28]:195",
            " [5] top-level scope",
            "   @ In[29]:1"
          ]
        }
      ]
    },
    {
      "cell_type": "code",
      "source": [],
      "metadata": {
        "id": "sUYbCPE4pDjx"
      },
      "execution_count": null,
      "outputs": []
    }
  ]
}